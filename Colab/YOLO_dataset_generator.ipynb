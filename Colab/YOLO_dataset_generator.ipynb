{
  "nbformat": 4,
  "nbformat_minor": 0,
  "metadata": {
    "colab": {
      "provenance": [],
      "gpuType": "T4",
      "authorship_tag": "ABX9TyMRxwew+7n2n//MA6cTxTX4",
      "include_colab_link": true
    },
    "kernelspec": {
      "name": "python3",
      "display_name": "Python 3"
    },
    "language_info": {
      "name": "python"
    },
    "accelerator": "GPU",
    "gpuClass": "standard"
  },
  "cells": [
    {
      "cell_type": "markdown",
      "metadata": {
        "id": "view-in-github",
        "colab_type": "text"
      },
      "source": [
        "<a href=\"https://colab.research.google.com/github/glucard/Leaves-dataset/blob/disease-dataset/Colab/YOLO_dataset_generator.ipynb\" target=\"_parent\"><img src=\"https://colab.research.google.com/assets/colab-badge.svg\" alt=\"Open In Colab\"/></a>"
      ]
    },
    {
      "cell_type": "code",
      "source": [
        "!pip install ultralytics\n",
        "from ultralytics import YOLO\n",
        "\n",
        "from IPython.display import display, Image, clear_output"
      ],
      "metadata": {
        "colab": {
          "base_uri": "https://localhost:8080/"
        },
        "id": "6k-M69omfiuV",
        "outputId": "db4ec588-5963-4346-d25b-9514f23c5050"
      },
      "execution_count": 1,
      "outputs": [
        {
          "output_type": "stream",
          "name": "stdout",
          "text": [
            "Looking in indexes: https://pypi.org/simple, https://us-python.pkg.dev/colab-wheels/public/simple/\n",
            "Collecting ultralytics\n",
            "  Downloading ultralytics-8.0.107-py3-none-any.whl (589 kB)\n",
            "\u001b[2K     \u001b[90m━━━━━━━━━━━━━━━━━━━━━━━━━━━━━━━━━━━━━━━\u001b[0m \u001b[32m589.4/589.4 kB\u001b[0m \u001b[31m3.9 MB/s\u001b[0m eta \u001b[36m0:00:00\u001b[0m\n",
            "\u001b[?25hRequirement already satisfied: matplotlib>=3.2.2 in /usr/local/lib/python3.10/dist-packages (from ultralytics) (3.7.1)\n",
            "Requirement already satisfied: opencv-python>=4.6.0 in /usr/local/lib/python3.10/dist-packages (from ultralytics) (4.7.0.72)\n",
            "Requirement already satisfied: Pillow>=7.1.2 in /usr/local/lib/python3.10/dist-packages (from ultralytics) (8.4.0)\n",
            "Requirement already satisfied: PyYAML>=5.3.1 in /usr/local/lib/python3.10/dist-packages (from ultralytics) (6.0)\n",
            "Requirement already satisfied: requests>=2.23.0 in /usr/local/lib/python3.10/dist-packages (from ultralytics) (2.27.1)\n",
            "Requirement already satisfied: scipy>=1.4.1 in /usr/local/lib/python3.10/dist-packages (from ultralytics) (1.10.1)\n",
            "Requirement already satisfied: torch>=1.7.0 in /usr/local/lib/python3.10/dist-packages (from ultralytics) (2.0.1+cu118)\n",
            "Requirement already satisfied: torchvision>=0.8.1 in /usr/local/lib/python3.10/dist-packages (from ultralytics) (0.15.2+cu118)\n",
            "Requirement already satisfied: tqdm>=4.64.0 in /usr/local/lib/python3.10/dist-packages (from ultralytics) (4.65.0)\n",
            "Requirement already satisfied: pandas>=1.1.4 in /usr/local/lib/python3.10/dist-packages (from ultralytics) (1.5.3)\n",
            "Requirement already satisfied: seaborn>=0.11.0 in /usr/local/lib/python3.10/dist-packages (from ultralytics) (0.12.2)\n",
            "Requirement already satisfied: psutil in /usr/local/lib/python3.10/dist-packages (from ultralytics) (5.9.5)\n",
            "Collecting sentry-sdk (from ultralytics)\n",
            "  Downloading sentry_sdk-1.24.0-py2.py3-none-any.whl (206 kB)\n",
            "\u001b[2K     \u001b[90m━━━━━━━━━━━━━━━━━━━━━━━━━━━━━━━━━━━━━━\u001b[0m \u001b[32m206.5/206.5 kB\u001b[0m \u001b[31m14.0 MB/s\u001b[0m eta \u001b[36m0:00:00\u001b[0m\n",
            "\u001b[?25hRequirement already satisfied: contourpy>=1.0.1 in /usr/local/lib/python3.10/dist-packages (from matplotlib>=3.2.2->ultralytics) (1.0.7)\n",
            "Requirement already satisfied: cycler>=0.10 in /usr/local/lib/python3.10/dist-packages (from matplotlib>=3.2.2->ultralytics) (0.11.0)\n",
            "Requirement already satisfied: fonttools>=4.22.0 in /usr/local/lib/python3.10/dist-packages (from matplotlib>=3.2.2->ultralytics) (4.39.3)\n",
            "Requirement already satisfied: kiwisolver>=1.0.1 in /usr/local/lib/python3.10/dist-packages (from matplotlib>=3.2.2->ultralytics) (1.4.4)\n",
            "Requirement already satisfied: numpy>=1.20 in /usr/local/lib/python3.10/dist-packages (from matplotlib>=3.2.2->ultralytics) (1.22.4)\n",
            "Requirement already satisfied: packaging>=20.0 in /usr/local/lib/python3.10/dist-packages (from matplotlib>=3.2.2->ultralytics) (23.1)\n",
            "Requirement already satisfied: pyparsing>=2.3.1 in /usr/local/lib/python3.10/dist-packages (from matplotlib>=3.2.2->ultralytics) (3.0.9)\n",
            "Requirement already satisfied: python-dateutil>=2.7 in /usr/local/lib/python3.10/dist-packages (from matplotlib>=3.2.2->ultralytics) (2.8.2)\n",
            "Requirement already satisfied: pytz>=2020.1 in /usr/local/lib/python3.10/dist-packages (from pandas>=1.1.4->ultralytics) (2022.7.1)\n",
            "Requirement already satisfied: urllib3<1.27,>=1.21.1 in /usr/local/lib/python3.10/dist-packages (from requests>=2.23.0->ultralytics) (1.26.15)\n",
            "Requirement already satisfied: certifi>=2017.4.17 in /usr/local/lib/python3.10/dist-packages (from requests>=2.23.0->ultralytics) (2022.12.7)\n",
            "Requirement already satisfied: charset-normalizer~=2.0.0 in /usr/local/lib/python3.10/dist-packages (from requests>=2.23.0->ultralytics) (2.0.12)\n",
            "Requirement already satisfied: idna<4,>=2.5 in /usr/local/lib/python3.10/dist-packages (from requests>=2.23.0->ultralytics) (3.4)\n",
            "Requirement already satisfied: filelock in /usr/local/lib/python3.10/dist-packages (from torch>=1.7.0->ultralytics) (3.12.0)\n",
            "Requirement already satisfied: typing-extensions in /usr/local/lib/python3.10/dist-packages (from torch>=1.7.0->ultralytics) (4.5.0)\n",
            "Requirement already satisfied: sympy in /usr/local/lib/python3.10/dist-packages (from torch>=1.7.0->ultralytics) (1.11.1)\n",
            "Requirement already satisfied: networkx in /usr/local/lib/python3.10/dist-packages (from torch>=1.7.0->ultralytics) (3.1)\n",
            "Requirement already satisfied: jinja2 in /usr/local/lib/python3.10/dist-packages (from torch>=1.7.0->ultralytics) (3.1.2)\n",
            "Requirement already satisfied: triton==2.0.0 in /usr/local/lib/python3.10/dist-packages (from torch>=1.7.0->ultralytics) (2.0.0)\n",
            "Requirement already satisfied: cmake in /usr/local/lib/python3.10/dist-packages (from triton==2.0.0->torch>=1.7.0->ultralytics) (3.25.2)\n",
            "Requirement already satisfied: lit in /usr/local/lib/python3.10/dist-packages (from triton==2.0.0->torch>=1.7.0->ultralytics) (16.0.5)\n",
            "Requirement already satisfied: six>=1.5 in /usr/local/lib/python3.10/dist-packages (from python-dateutil>=2.7->matplotlib>=3.2.2->ultralytics) (1.16.0)\n",
            "Requirement already satisfied: MarkupSafe>=2.0 in /usr/local/lib/python3.10/dist-packages (from jinja2->torch>=1.7.0->ultralytics) (2.1.2)\n",
            "Requirement already satisfied: mpmath>=0.19 in /usr/local/lib/python3.10/dist-packages (from sympy->torch>=1.7.0->ultralytics) (1.3.0)\n",
            "Installing collected packages: sentry-sdk, ultralytics\n",
            "Successfully installed sentry-sdk-1.24.0 ultralytics-8.0.107\n"
          ]
        }
      ]
    },
    {
      "cell_type": "markdown",
      "source": [
        "#### download repo"
      ],
      "metadata": {
        "id": "_HI3o07jfOtn"
      }
    },
    {
      "cell_type": "code",
      "source": [
        "!wget -O repo.zip https://github.com/glucard/Leaves-dataset/archive/refs/heads/disease-dataset.zip\n",
        "!unzip repo.zip -d repo\n",
        "\n",
        "clear_output()"
      ],
      "metadata": {
        "id": "o8mFmwGwfLWx"
      },
      "execution_count": 2,
      "outputs": []
    },
    {
      "cell_type": "code",
      "source": [
        "yolo_model = YOLO('/content/repo/Leaves-dataset-disease-dataset/models/yolo_leafs_v1.pt')"
      ],
      "metadata": {
        "id": "wf2Av0aReyO3"
      },
      "execution_count": 3,
      "outputs": []
    },
    {
      "cell_type": "code",
      "source": [
        "!mv \"/content/repo/Leaves-dataset-disease-dataset/data/Disease-dataset/diases_datasets_by_leaf\" \"/content/original_dataset\""
      ],
      "metadata": {
        "id": "oNN2pRhhgGAz"
      },
      "execution_count": 4,
      "outputs": []
    },
    {
      "cell_type": "code",
      "source": [
        "import cv2\n",
        "import numpy as np\n",
        "\n",
        "IMG_SIZE = 500, 500\n",
        "\n",
        "def load_images(path):\n",
        "  \n",
        "  if os.path.isdir(path):\n",
        "    images_names = sorted(list(os.listdir(path)))\n",
        "    images_names = [os.path.join(path, img) for img in images_names]\n",
        "  else:\n",
        "    images_names = [path]\n",
        "  images = [cv2.imread(img) for img in images_names]\n",
        "\n",
        "  return images\n",
        "\n",
        "def crop_images(yolo_pred, images):\n",
        "  \"\"\"\n",
        "  PARAMS:\n",
        "  yolo_pred: yolo model output\n",
        "  images: list of images presented to yolo\n",
        "\n",
        "  returns a numpy.array\n",
        "  \"\"\"\n",
        "\n",
        "  cropped_images = []\n",
        "  for pred, img in zip(yolo_pred, images):\n",
        "    \n",
        "    bounding_boxes = [box.xyxy.cpu().numpy().astype(int)[0] for box in pred.boxes]\n",
        "    if bounding_boxes:\n",
        "      cropped_imgs = [img[bb[1]:bb[3], bb[0]:bb[2]] for bb in bounding_boxes]\n",
        "      resized_imgs = [cv2.resize(img, IMG_SIZE, interpolation = cv2.INTER_AREA) for img in cropped_imgs]\n",
        "      \n",
        "      for img in resized_imgs:\n",
        "        cropped_images.append(np.array(img))\n",
        "\n",
        "  cropped_images = np.array(cropped_images)\n",
        "\n",
        "  return cropped_images\n"
      ],
      "metadata": {
        "id": "ThdLLFyFkt7B"
      },
      "execution_count": 5,
      "outputs": []
    },
    {
      "cell_type": "code",
      "source": [
        "import os\n",
        "\n",
        "def check_and_create_path(path):\n",
        "  if not os.path.exists(path):\n",
        "    os.mkdir(path)\n",
        "\n",
        "PATH_IN = '/content/original_dataset'\n",
        "PATH_OUT = '/content/output_dataset'\n",
        "\n",
        "check_and_create_path(PATH_OUT)\n",
        "\n",
        "leaf_list_dir = sorted(os.listdir('/content/original_dataset'))\n",
        "\n",
        "for leaf_dir in leaf_list_dir:\n",
        "  leaf_path = os.path.join(PATH_IN, leaf_dir)\n",
        "  leaf_path_out = os.path.join(PATH_OUT, leaf_dir)\n",
        "  \n",
        "  check_and_create_path(leaf_path_out)\n",
        "\n",
        "  for disease_dir in os.listdir(leaf_path):\n",
        "    disease_path = os.path.join(leaf_path, disease_dir)\n",
        "    disease_path_out = os.path.join(leaf_path_out, disease_dir)\n",
        "    \n",
        "    check_and_create_path(disease_path_out)\n",
        "\n",
        "    #predict\n",
        "    pred = yolo_model.predict(disease_path)\n",
        "    clear_output()\n",
        "    \n",
        "    #crop images\n",
        "    images = load_images(disease_path)\n",
        "    cropped_images = crop_images(pred, images)\n",
        "\n",
        "    for i, img in enumerate(cropped_images):\n",
        "      out_img_name = f\"{leaf_dir}_{disease_dir}_{i}.jpg\"\n",
        "      out_img_path = os.path.join(disease_path_out, out_img_name)\n",
        "      cv2.imwrite(out_img_path, img)"
      ],
      "metadata": {
        "id": "p_Sdj22sgmK0"
      },
      "execution_count": 6,
      "outputs": []
    },
    {
      "cell_type": "code",
      "source": [
        "!zip -r '/content/output_dataset.zip' '/content/output_dataset'\n",
        "clear_output()"
      ],
      "metadata": {
        "id": "kXx92P35rfs3"
      },
      "execution_count": 8,
      "outputs": []
    }
  ]
}