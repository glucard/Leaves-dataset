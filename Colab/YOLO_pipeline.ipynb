{
  "nbformat": 4,
  "nbformat_minor": 0,
  "metadata": {
    "colab": {
      "provenance": [],
      "gpuType": "T4",
      "include_colab_link": true
    },
    "kernelspec": {
      "name": "python3",
      "display_name": "Python 3"
    },
    "language_info": {
      "name": "python"
    },
    "accelerator": "GPU",
    "gpuClass": "standard"
  },
  "cells": [
    {
      "cell_type": "markdown",
      "metadata": {
        "id": "view-in-github",
        "colab_type": "text"
      },
      "source": [
        "<a href=\"https://colab.research.google.com/github/glucard/Leaves-dataset/blob/disease-dataset/Colab/YOLO_pipeline.ipynb\" target=\"_parent\"><img src=\"https://colab.research.google.com/assets/colab-badge.svg\" alt=\"Open In Colab\"/></a>"
      ]
    },
    {
      "cell_type": "markdown",
      "source": [
        "## Training YOLO"
      ],
      "metadata": {
        "id": "ibYgc0KrHBSB"
      }
    },
    {
      "cell_type": "code",
      "source": [
        "train = False"
      ],
      "metadata": {
        "id": "UYvd7n0DeOjb"
      },
      "execution_count": 1,
      "outputs": []
    },
    {
      "cell_type": "code",
      "source": [
        "yolo_names = ['Apple', 'Blueberry', 'Cherry', 'Corn', 'Grape', 'Orange', 'Peach', 'Pepper', 'Potato', 'Raspberry', 'Soybean', 'Squash', 'Strawberry', 'Tomato']"
      ],
      "metadata": {
        "id": "YL0fXSHkzyON"
      },
      "execution_count": 2,
      "outputs": []
    },
    {
      "cell_type": "markdown",
      "source": [
        "### Config"
      ],
      "metadata": {
        "id": "3AgfCkCo6M1O"
      }
    },
    {
      "cell_type": "code",
      "execution_count": 3,
      "metadata": {
        "colab": {
          "base_uri": "https://localhost:8080/"
        },
        "id": "xFYmee4UmAxf",
        "outputId": "3903c1c0-6e17-41f4-f77e-774cbea6816a"
      },
      "outputs": [
        {
          "output_type": "stream",
          "name": "stdout",
          "text": [
            "Tue May 23 05:22:50 2023       \n",
            "+-----------------------------------------------------------------------------+\n",
            "| NVIDIA-SMI 525.85.12    Driver Version: 525.85.12    CUDA Version: 12.0     |\n",
            "|-------------------------------+----------------------+----------------------+\n",
            "| GPU  Name        Persistence-M| Bus-Id        Disp.A | Volatile Uncorr. ECC |\n",
            "| Fan  Temp  Perf  Pwr:Usage/Cap|         Memory-Usage | GPU-Util  Compute M. |\n",
            "|                               |                      |               MIG M. |\n",
            "|===============================+======================+======================|\n",
            "|   0  Tesla T4            Off  | 00000000:00:04.0 Off |                    0 |\n",
            "| N/A   56C    P8    12W /  70W |      0MiB / 15360MiB |      0%      Default |\n",
            "|                               |                      |                  N/A |\n",
            "+-------------------------------+----------------------+----------------------+\n",
            "                                                                               \n",
            "+-----------------------------------------------------------------------------+\n",
            "| Processes:                                                                  |\n",
            "|  GPU   GI   CI        PID   Type   Process name                  GPU Memory |\n",
            "|        ID   ID                                                   Usage      |\n",
            "|=============================================================================|\n",
            "|  No running processes found                                                 |\n",
            "+-----------------------------------------------------------------------------+\n"
          ]
        }
      ],
      "source": [
        "!nvidia-smi"
      ]
    },
    {
      "cell_type": "code",
      "source": [
        "import os\n",
        "HOME = os.getcwd()\n",
        "print(HOME)"
      ],
      "metadata": {
        "colab": {
          "base_uri": "https://localhost:8080/"
        },
        "id": "OTX7RNZQmYs7",
        "outputId": "05c44cd2-eeb5-46a4-e875-5b09b4431677"
      },
      "execution_count": 4,
      "outputs": [
        {
          "output_type": "stream",
          "name": "stdout",
          "text": [
            "/content\n"
          ]
        }
      ]
    },
    {
      "cell_type": "code",
      "source": [
        "!pip install ultralytics\n",
        "\n",
        "from IPython import display\n",
        "display.clear_output()\n",
        "\n",
        "import ultralytics\n",
        "ultralytics.checks()"
      ],
      "metadata": {
        "colab": {
          "base_uri": "https://localhost:8080/"
        },
        "id": "_JW2lm_2mhh2",
        "outputId": "b3829269-5d29-45cc-a497-80d4dcf0663a"
      },
      "execution_count": 5,
      "outputs": [
        {
          "output_type": "stream",
          "name": "stderr",
          "text": [
            "Ultralytics YOLOv8.0.106 🚀 Python-3.10.11 torch-2.0.1+cu118 CUDA:0 (Tesla T4, 15102MiB)\n",
            "Setup complete ✅ (2 CPUs, 12.7 GB RAM, 23.3/78.2 GB disk)\n"
          ]
        }
      ]
    },
    {
      "cell_type": "code",
      "source": [
        "from ultralytics import YOLO\n",
        "\n",
        "from IPython.display import display, Image, clear_output"
      ],
      "metadata": {
        "id": "jWubxDijmyVL"
      },
      "execution_count": 6,
      "outputs": []
    },
    {
      "cell_type": "markdown",
      "source": [
        "### Preparing dataset"
      ],
      "metadata": {
        "id": "_nwHxcdt6vXD"
      }
    },
    {
      "cell_type": "code",
      "source": [
        "!wget -O repo.zip https://github.com/glucard/Leaves-dataset/archive/refs/heads/disease-dataset.zip\n",
        "!unzip repo.zip -d repo\n",
        "!mv \"/content/repo/Leaves-dataset-disease-dataset/data/Disease-dataset/leaf-boxes/\" \"/content/datasets\"\n",
        "\n",
        "clear_output()"
      ],
      "metadata": {
        "id": "6DJdQSlfo8NK"
      },
      "execution_count": 7,
      "outputs": []
    },
    {
      "cell_type": "code",
      "source": [
        "%%writefile custom.yaml\n",
        "train: train\n",
        "val: val\n",
        "\n",
        "nc: 14\n",
        "\n",
        "names: ['Apple', 'Blueberry', 'Cherry', 'Corn', 'Grape', 'Orange', 'Peach', 'Pepper', 'Potato', 'Raspberry', 'Soybean', 'Squash', 'Strawberry', 'Tomato',\n",
        "]"
      ],
      "metadata": {
        "id": "IhwOkvf88kgR",
        "colab": {
          "base_uri": "https://localhost:8080/"
        },
        "outputId": "496722c1-9daa-4960-acb9-4a9458b35a83"
      },
      "execution_count": 8,
      "outputs": [
        {
          "output_type": "stream",
          "name": "stdout",
          "text": [
            "Writing custom.yaml\n"
          ]
        }
      ]
    },
    {
      "cell_type": "markdown",
      "source": [
        "### Training"
      ],
      "metadata": {
        "id": "TgzzOxrd-Cbh"
      }
    },
    {
      "cell_type": "code",
      "source": [
        "%cd {HOME}\n",
        "if train:\n",
        "  !yolo task=detect mode=train model=yolov8n.pt data=custom.yaml epochs=80 imgsz=640"
      ],
      "metadata": {
        "id": "LpTwaa868HBh",
        "colab": {
          "base_uri": "https://localhost:8080/"
        },
        "outputId": "3a1fa14a-ba31-4111-eb8c-c5670c87654b"
      },
      "execution_count": 9,
      "outputs": [
        {
          "output_type": "stream",
          "name": "stdout",
          "text": [
            "/content\n"
          ]
        }
      ]
    },
    {
      "cell_type": "code",
      "source": [
        "if train:\n",
        "  yolo_model = YOLO('/content/runs/detect/train/weights/best.pt')\n",
        "else:\n",
        "  yolo_model = YOLO('/content/repo/Leaves-dataset-disease-dataset/models/yolo_leafs_v1.pt')\n",
        "pred = yolo_model.predict(\n",
        "   source='/content/datasets/train/images/031a184f-Apple___healthy_image_1127.JPG',\n",
        "   conf=0.25\n",
        ")"
      ],
      "metadata": {
        "id": "-ZZ-KHSrXMzH",
        "colab": {
          "base_uri": "https://localhost:8080/"
        },
        "outputId": "d336d260-e8a5-4bb0-8465-906d1d3059ba"
      },
      "execution_count": 10,
      "outputs": [
        {
          "output_type": "stream",
          "name": "stderr",
          "text": [
            "\n",
            "image 1/1 /content/datasets/train/images/031a184f-Apple___healthy_image_1127.JPG: 640x640 1 Apple, 25.4ms\n",
            "Speed: 14.6ms preprocess, 25.4ms inference, 36.7ms postprocess per image at shape (1, 3, 640, 640)\n"
          ]
        }
      ]
    },
    {
      "cell_type": "code",
      "source": [
        "pred[0].boxes.data"
      ],
      "metadata": {
        "id": "vToKouPmXv0O",
        "colab": {
          "base_uri": "https://localhost:8080/"
        },
        "outputId": "2ae429f2-eb6b-40ed-dca1-f0f6ec744789"
      },
      "execution_count": 11,
      "outputs": [
        {
          "output_type": "execute_result",
          "data": {
            "text/plain": [
              "tensor([[ 48.5283,  19.0965, 456.2009, 462.7732,   0.9572,   0.0000]], device='cuda:0')"
            ]
          },
          "metadata": {},
          "execution_count": 11
        }
      ]
    },
    {
      "cell_type": "markdown",
      "source": [
        "### Report"
      ],
      "metadata": {
        "id": "NrX0JIQIEi0z"
      }
    },
    {
      "cell_type": "code",
      "source": [
        "train_folder_path = \"/content/runs/detect/train3\"\n",
        "\n",
        "import os\n",
        "import cv2\n",
        "\n",
        "if train:\n",
        "  images_names = [[f, os.path.join(train_folder_path, f)] for f in os.listdir(train_folder_path) if f.split('.')[-1] in ['jpg', 'png']]\n",
        "\n",
        "  images = [cv2.imread(img[1]) for img in images_names]"
      ],
      "metadata": {
        "id": "QGaVFWO3CudQ"
      },
      "execution_count": 12,
      "outputs": []
    },
    {
      "cell_type": "code",
      "source": [
        "from matplotlib import pyplot as plt\n",
        "\n",
        "if train:\n",
        "  for img, names in zip(images, images_names):\n",
        "    print(names[0])\n",
        "    plt.imshow(img)\n",
        "    plt.axis(\"off\")\n",
        "    plt.show()\n",
        "    print('\\n')"
      ],
      "metadata": {
        "id": "D1ySbh5-EgmE"
      },
      "execution_count": 13,
      "outputs": []
    },
    {
      "cell_type": "markdown",
      "source": [
        "## Training disease classifier"
      ],
      "metadata": {
        "id": "AFtgKO5wHOQ_"
      }
    },
    {
      "cell_type": "markdown",
      "source": [
        "### Setting up DatasetManager"
      ],
      "metadata": {
        "id": "oNIlw9sJRAz5"
      }
    },
    {
      "cell_type": "code",
      "source": [],
      "metadata": {
        "id": "lCBic35K2m9_"
      },
      "execution_count": 13,
      "outputs": []
    },
    {
      "cell_type": "code",
      "source": [
        "import numpy as np\n",
        "import os\n",
        "import tensorflow as tf"
      ],
      "metadata": {
        "id": "A7e2EAZfHVoL"
      },
      "execution_count": 14,
      "outputs": []
    },
    {
      "cell_type": "code",
      "source": [
        "BATCH_SIZE = 30\n",
        "IMG_SIZE = (299, 299)\n",
        "\n",
        "AUTOTUNE = tf.data.AUTOTUNE\n",
        "\n",
        "class DatasetManager:\n",
        "  def load_dataset(path):\n",
        "\n",
        "    leaves_dataset = tf.keras.utils.image_dataset_from_directory(\n",
        "        path,\n",
        "        shuffle=True,\n",
        "        batch_size=BATCH_SIZE,\n",
        "        color_mode='rgb',\n",
        "        image_size=IMG_SIZE,\n",
        "        crop_to_aspect_ratio=False,\n",
        "    )\n",
        "    return leaves_dataset\n",
        "\n",
        "  def split_train_val(dataset, train_size):\n",
        "    \"\"\"\n",
        "    Params:\n",
        "      dataset (BatchDataset): the dataset.\n",
        "      train_size (float): float number between 0 and 1.\n",
        "    \n",
        "    Return\n",
        "      train_dataset, val_dataset\n",
        "    \"\"\"\n",
        "\n",
        "    dataset_length = dataset.cardinality().numpy()\n",
        "    dataset_slice = int(dataset_length * train_size)\n",
        "    train_dataset = dataset.take(dataset_slice)\n",
        "    val_dataset = dataset.skip(dataset_slice)\n",
        "\n",
        "    return train_dataset, val_dataset\n",
        "\n",
        "  def norm_dataset(dataset):\n",
        "    def image_standardization(image, label):\n",
        "      \"\"\"image = tf.image.per_image_standardization(image)\"\"\"\n",
        "      image = tf.math.subtract(image, tf.math.reduce_mean(image))\n",
        "      return image, label\n",
        "\n",
        "    return dataset.map(image_standardization)\n",
        "  #train_dataset, val_dataset = norm_dataset(train_dataset), norm_dataset(val_dataset)\n",
        "\n",
        "  def get_class_names(dataset):\n",
        "    return dataset.class_names\n",
        "\n",
        "  \n",
        "  def autotune(dataset):\n",
        "    return dataset.prefetch(buffer_size=AUTOTUNE)\n",
        "\n",
        "  \"\"\"\n",
        "  val_batches = tf.data.experimental.cardinality(validation_dataset) # lenght dataset\n",
        "  test_dataset = validation_dataset.take(val_batches // 2) # lenght//5 first elements in test_dataset\n",
        "  # validation_dataset = validation_dataset.skip(val_batches // 2) # skipping elements used in test_dataset\n",
        "\n",
        "  print('Number of validation batches: %d' % tf.data.experimental.cardinality(validation_dataset))\n",
        "  print('Number of test batches: %d' % tf.data.experimental.cardinality(test_dataset))\n",
        "  \"\"\""
      ],
      "metadata": {
        "id": "ahTdDDiTXlHs"
      },
      "execution_count": 15,
      "outputs": []
    },
    {
      "cell_type": "code",
      "source": [
        "\n",
        "\n",
        "\"\"\"\n",
        "train_dataset = train_dataset.prefetch(buffer_size=AUTOTUNE)\n",
        "validation_dataset = validation_dataset.prefetch(buffer_size=AUTOTUNE)\n",
        "test_dataset = test_dataset.prefetch(buffer_size=AUTOTUNE)\n",
        "\"\"\""
      ],
      "metadata": {
        "id": "U6ZmcApwX9TG",
        "colab": {
          "base_uri": "https://localhost:8080/",
          "height": 53
        },
        "outputId": "7e390828-c55e-4fb2-c8ca-6cff0a5d723d"
      },
      "execution_count": 16,
      "outputs": [
        {
          "output_type": "execute_result",
          "data": {
            "text/plain": [
              "'\\ntrain_dataset = train_dataset.prefetch(buffer_size=AUTOTUNE)\\nvalidation_dataset = validation_dataset.prefetch(buffer_size=AUTOTUNE)\\ntest_dataset = test_dataset.prefetch(buffer_size=AUTOTUNE)\\n'"
            ],
            "application/vnd.google.colaboratory.intrinsic+json": {
              "type": "string"
            }
          },
          "metadata": {},
          "execution_count": 16
        }
      ]
    },
    {
      "cell_type": "code",
      "source": [
        "data_augmentation = tf.keras.Sequential([\n",
        "  tf.keras.layers.RandomCrop(244, 244),\n",
        "  tf.keras.layers.Resizing(IMG_SIZE[0], IMG_SIZE[1]),\n",
        "  tf.keras.layers.RandomFlip('horizontal'),\n",
        "  tf.keras.layers.RandomRotation((-0.2, 0.3)),\n",
        "])"
      ],
      "metadata": {
        "id": "XmXwyxSxYJdj"
      },
      "execution_count": 17,
      "outputs": []
    },
    {
      "cell_type": "code",
      "source": [
        "preprocess_input = tf.keras.applications.xception.preprocess_input\n",
        "\n",
        "rescale = tf.keras.layers.Rescaling(1./127.5, offset=-1)"
      ],
      "metadata": {
        "id": "jdNrrF7AYSPd"
      },
      "execution_count": 18,
      "outputs": []
    },
    {
      "cell_type": "markdown",
      "source": [
        "### Setting up Transfer Learning"
      ],
      "metadata": {
        "id": "1wq04WMbYXpE"
      }
    },
    {
      "cell_type": "markdown",
      "source": [
        "#### Importing model"
      ],
      "metadata": {
        "id": "5nA4hiswaBqZ"
      }
    },
    {
      "cell_type": "code",
      "source": [
        "IMG_SHAPE = IMG_SIZE + (3,)\n",
        "print(IMG_SHAPE)\n",
        "base_model = tf.keras.applications.Xception(input_shape=IMG_SHAPE,\n",
        "                                               include_top=False,\n",
        "                                               weights='imagenet')\n",
        "\n",
        "base_model.trainable = False\n",
        "global_average_layer = tf.keras.layers.GlobalAveragePooling2D()"
      ],
      "metadata": {
        "id": "0eJG7y6MYafG",
        "colab": {
          "base_uri": "https://localhost:8080/"
        },
        "outputId": "25b04f24-6e42-4a37-d728-160800039259"
      },
      "execution_count": 19,
      "outputs": [
        {
          "output_type": "stream",
          "name": "stdout",
          "text": [
            "(299, 299, 3)\n",
            "Downloading data from https://storage.googleapis.com/tensorflow/keras-applications/xception/xception_weights_tf_dim_ordering_tf_kernels_notop.h5\n",
            "83683744/83683744 [==============================] - 3s 0us/step\n"
          ]
        }
      ]
    },
    {
      "cell_type": "code",
      "source": [
        "def get_feature_batch(dataset):\n",
        "  image_batch, label_batch = next(iter(dataset)) # next(iter()) parece uma fila.\n",
        "  feature_batch = base_model(image_batch)\n",
        "  return feature_batch"
      ],
      "metadata": {
        "id": "JLQfx-wGYfpH"
      },
      "execution_count": 20,
      "outputs": []
    },
    {
      "cell_type": "code",
      "source": [
        "def get_prediction_layer(classes_length, dataset):\n",
        "  prediction_layer = tf.keras.layers.Dense(classes_length, activation='softmax',\n",
        "                                         kernel_regularizer=tf.keras.regularizers.L1(1e-3),\n",
        "                                         activity_regularizer=tf.keras.regularizers.L2(1e-2))\n",
        "  feature_batch = get_feature_batch(dataset)\n",
        "\n",
        "  average_batch = global_average_layer(feature_batch)\n",
        "  prediction_batch = prediction_layer(average_batch)\n",
        "\n",
        "  #print(prediction_batch.shape)\n",
        "\n",
        "  return prediction_layer\n"
      ],
      "metadata": {
        "id": "EQlHPU2yZQgz"
      },
      "execution_count": 22,
      "outputs": []
    },
    {
      "cell_type": "code",
      "source": [
        "LR = 0.0007\n",
        "\n",
        "inputs = tf.keras.Input(shape=IMG_SHAPE)\n",
        "x = data_augmentation(inputs)\n",
        "x = preprocess_input(x)\n",
        "x = base_model(x, training=False)\n",
        "\n",
        "x = global_average_layer(x)\n",
        "# x = hidden_layer_0(x)\n",
        "\n",
        "def get_model(prediction_layer):\n",
        "  outputs = prediction_layer(x)\n",
        "  model = tf.keras.Model(inputs, outputs)\n",
        "  \n",
        "  model.compile(optimizer=tf.keras.optimizers.Adam(learning_rate=LR),\n",
        "                loss=tf.keras.losses.SparseCategoricalCrossentropy(from_logits=True),\n",
        "                metrics=['accuracy'])\n",
        "\n",
        "  return model"
      ],
      "metadata": {
        "id": "nozTL84XZ9DD"
      },
      "execution_count": 23,
      "outputs": []
    },
    {
      "cell_type": "code",
      "source": [
        "from sklearn.metrics import classification_report\n",
        "\n",
        "def evaluate_model(model, dataset, class_names):\n",
        "  for images, labels in dataset.unbatch().batch(616).take(1):\n",
        "    y_pred = np.argmax(model.predict(images), axis=1)\n",
        "    print(classification_report(labels.numpy(), y_pred, target_names=class_names))"
      ],
      "metadata": {
        "id": "2NV6MHQD6api"
      },
      "execution_count": 24,
      "outputs": []
    },
    {
      "cell_type": "markdown",
      "source": [
        "### Training models"
      ],
      "metadata": {
        "id": "CNG0aAYPa_lr"
      }
    },
    {
      "cell_type": "code",
      "source": [
        "!mv \"/content/repo/Leaves-dataset-disease-dataset/data/Disease-dataset/diases_datasets_by_leaf\" \"/content/diseases_by_leaf\"\n",
        "PATH = '/content/diseases_by_leaf'\n"
      ],
      "metadata": {
        "id": "2VV6q6y43_zf"
      },
      "execution_count": 25,
      "outputs": []
    },
    {
      "cell_type": "code",
      "source": [
        "from collections import defaultdict\n",
        "\n",
        "disease_models = defaultdict(lambda: defaultdict(dict))\n",
        "\n",
        "diseases_by_leafs = (name for name in os.listdir(PATH))\n",
        "for dataset_name in diseases_by_leafs:\n",
        "  dataset_path = os.path.join(PATH, dataset_name)\n",
        "  dataset = DatasetManager.load_dataset(dataset_path)\n",
        "  dataset_class_names = dataset.class_names\n",
        "  class_length = len(dataset.class_names)\n",
        "  \n",
        "  initial_epochs = 1\n",
        "  if class_length != 1:\n",
        "    initial_epochs = class_length * 4\n",
        "\n",
        "  dataset = DatasetManager.norm_dataset(dataset)\n",
        "\n",
        "  train_dataset, val_dataset = DatasetManager.split_train_val(dataset, 0.75)\n",
        "  val_dataset, test_dataset = DatasetManager.split_train_val(dataset, 0.5)\n",
        "\n",
        "  train_dataset, val_dataset = DatasetManager.autotune(train_dataset), DatasetManager.autotune(val_dataset)\n",
        "\n",
        "  prediction_layer = get_prediction_layer(class_length, dataset)\n",
        "\n",
        "  model = get_model(prediction_layer)\n",
        "\n",
        "  history = model.fit(train_dataset,\n",
        "                      epochs=initial_epochs,\n",
        "                      validation_data=val_dataset)\n",
        "  \n",
        "  disease_models[dataset_name]['model'] = model\n",
        "  disease_models[dataset_name]['class_names'] = dataset_class_names\n",
        "  disease_models[dataset_name]['test_dataset'] = test_dataset\n",
        "\n",
        "\n"
      ],
      "metadata": {
        "id": "Ex9FzWi4bHKU",
        "colab": {
          "base_uri": "https://localhost:8080/"
        },
        "outputId": "64e768b5-1f69-4f0b-ab43-09448a4dbc5c"
      },
      "execution_count": 27,
      "outputs": [
        {
          "output_type": "stream",
          "name": "stdout",
          "text": [
            "Found 194 files belonging to 4 classes.\n",
            "Epoch 1/16\n",
            "5/5 [==============================] - 10s 771ms/step - loss: 1.6090 - accuracy: 0.2400 - val_loss: 1.5558 - val_accuracy: 0.3778\n",
            "Epoch 2/16\n",
            "5/5 [==============================] - 4s 874ms/step - loss: 1.4894 - accuracy: 0.4800 - val_loss: 1.4462 - val_accuracy: 0.5222\n",
            "Epoch 3/16\n",
            "5/5 [==============================] - 3s 497ms/step - loss: 1.3822 - accuracy: 0.6267 - val_loss: 1.3664 - val_accuracy: 0.6667\n",
            "Epoch 4/16\n",
            "5/5 [==============================] - 3s 492ms/step - loss: 1.2923 - accuracy: 0.7000 - val_loss: 1.2944 - val_accuracy: 0.7000\n",
            "Epoch 5/16\n",
            "5/5 [==============================] - 3s 488ms/step - loss: 1.2648 - accuracy: 0.7133 - val_loss: 1.2054 - val_accuracy: 0.7889\n",
            "Epoch 6/16\n",
            "5/5 [==============================] - 3s 493ms/step - loss: 1.1817 - accuracy: 0.7600 - val_loss: 1.1574 - val_accuracy: 0.8111\n",
            "Epoch 7/16\n",
            "5/5 [==============================] - 3s 496ms/step - loss: 1.1331 - accuracy: 0.7867 - val_loss: 1.0782 - val_accuracy: 0.8111\n",
            "Epoch 8/16\n",
            "5/5 [==============================] - 3s 500ms/step - loss: 1.0805 - accuracy: 0.7800 - val_loss: 1.0749 - val_accuracy: 0.7444\n",
            "Epoch 9/16\n",
            "5/5 [==============================] - 3s 500ms/step - loss: 1.0109 - accuracy: 0.8200 - val_loss: 0.9828 - val_accuracy: 0.8333\n",
            "Epoch 10/16\n",
            "5/5 [==============================] - 3s 497ms/step - loss: 0.9641 - accuracy: 0.7733 - val_loss: 1.0124 - val_accuracy: 0.7667\n",
            "Epoch 11/16\n",
            "5/5 [==============================] - 4s 883ms/step - loss: 0.9550 - accuracy: 0.7667 - val_loss: 0.9996 - val_accuracy: 0.8333\n",
            "Epoch 12/16\n",
            "5/5 [==============================] - 3s 495ms/step - loss: 0.9003 - accuracy: 0.8467 - val_loss: 0.9462 - val_accuracy: 0.8111\n",
            "Epoch 13/16\n",
            "5/5 [==============================] - 3s 493ms/step - loss: 0.9080 - accuracy: 0.8333 - val_loss: 0.8884 - val_accuracy: 0.8556\n",
            "Epoch 14/16\n",
            "5/5 [==============================] - 3s 558ms/step - loss: 0.8756 - accuracy: 0.8200 - val_loss: 0.8850 - val_accuracy: 0.8556\n",
            "Epoch 15/16\n",
            "5/5 [==============================] - 3s 487ms/step - loss: 0.8389 - accuracy: 0.8333 - val_loss: 0.8098 - val_accuracy: 0.8667\n",
            "Epoch 16/16\n",
            "5/5 [==============================] - 3s 495ms/step - loss: 0.8147 - accuracy: 0.9067 - val_loss: 0.8595 - val_accuracy: 0.8333\n",
            "Found 96 files belonging to 2 classes.\n",
            "Epoch 1/8\n",
            "3/3 [==============================] - 6s 1s/step - loss: 0.8223 - accuracy: 0.5222 - val_loss: 0.8079 - val_accuracy: 0.4667\n",
            "Epoch 2/8\n",
            "3/3 [==============================] - 2s 563ms/step - loss: 0.7781 - accuracy: 0.5778 - val_loss: 0.8033 - val_accuracy: 0.4833\n",
            "Epoch 3/8\n",
            "3/3 [==============================] - 2s 549ms/step - loss: 0.7884 - accuracy: 0.5000 - val_loss: 0.7614 - val_accuracy: 0.6000\n",
            "Epoch 4/8\n",
            "3/3 [==============================] - 2s 579ms/step - loss: 0.7554 - accuracy: 0.6222 - val_loss: 0.7322 - val_accuracy: 0.6667\n",
            "Epoch 5/8\n",
            "3/3 [==============================] - 2s 552ms/step - loss: 0.6969 - accuracy: 0.7778 - val_loss: 0.7196 - val_accuracy: 0.7500\n",
            "Epoch 6/8\n",
            "3/3 [==============================] - 2s 547ms/step - loss: 0.7090 - accuracy: 0.7444 - val_loss: 0.7087 - val_accuracy: 0.7500\n",
            "Epoch 7/8\n",
            "3/3 [==============================] - 2s 556ms/step - loss: 0.6464 - accuracy: 0.8333 - val_loss: 0.6864 - val_accuracy: 0.7667\n",
            "Epoch 8/8\n",
            "3/3 [==============================] - 2s 868ms/step - loss: 0.6590 - accuracy: 0.8222 - val_loss: 0.6859 - val_accuracy: 0.7833\n",
            "Found 96 files belonging to 2 classes.\n",
            "Epoch 1/8\n",
            "3/3 [==============================] - 7s 1s/step - loss: 0.7745 - accuracy: 0.6667 - val_loss: 0.7403 - val_accuracy: 0.7333\n",
            "Epoch 2/8\n",
            "3/3 [==============================] - 2s 552ms/step - loss: 0.6814 - accuracy: 0.9111 - val_loss: 0.6709 - val_accuracy: 0.8833\n",
            "Epoch 3/8\n",
            "3/3 [==============================] - 2s 556ms/step - loss: 0.6448 - accuracy: 0.8333 - val_loss: 0.6102 - val_accuracy: 0.9167\n",
            "Epoch 4/8\n",
            "3/3 [==============================] - 3s 888ms/step - loss: 0.5855 - accuracy: 0.8889 - val_loss: 0.5578 - val_accuracy: 0.8833\n",
            "Epoch 5/8\n",
            "3/3 [==============================] - 2s 549ms/step - loss: 0.5323 - accuracy: 0.9444 - val_loss: 0.5244 - val_accuracy: 0.8833\n",
            "Epoch 6/8\n",
            "3/3 [==============================] - 2s 554ms/step - loss: 0.4975 - accuracy: 0.9222 - val_loss: 0.4696 - val_accuracy: 0.9333\n",
            "Epoch 7/8\n",
            "3/3 [==============================] - 2s 553ms/step - loss: 0.4663 - accuracy: 0.9333 - val_loss: 0.4966 - val_accuracy: 0.9333\n",
            "Epoch 8/8\n",
            "3/3 [==============================] - 2s 553ms/step - loss: 0.4388 - accuracy: 0.9667 - val_loss: 0.4588 - val_accuracy: 0.9167\n",
            "Found 50 files belonging to 1 classes.\n",
            "1/1 [==============================] - 6s 6s/step - loss: 0.0655 - accuracy: 0.0000e+00 - val_loss: 0.0641 - val_accuracy: 0.0000e+00\n",
            "Found 493 files belonging to 10 classes.\n",
            "Epoch 1/40\n",
            "12/12 [==============================] - 11s 605ms/step - loss: 2.7917 - accuracy: 0.1528 - val_loss: 2.6486 - val_accuracy: 0.3083\n",
            "Epoch 2/40\n",
            "12/12 [==============================] - 6s 447ms/step - loss: 2.5442 - accuracy: 0.3972 - val_loss: 2.4562 - val_accuracy: 0.3958\n",
            "Epoch 3/40\n",
            "12/12 [==============================] - 6s 443ms/step - loss: 2.3941 - accuracy: 0.4444 - val_loss: 2.3326 - val_accuracy: 0.4375\n",
            "Epoch 4/40\n",
            "12/12 [==============================] - 6s 464ms/step - loss: 2.2461 - accuracy: 0.5083 - val_loss: 2.2149 - val_accuracy: 0.4875\n",
            "Epoch 5/40\n",
            "12/12 [==============================] - 6s 468ms/step - loss: 2.1345 - accuracy: 0.5528 - val_loss: 2.1288 - val_accuracy: 0.5083\n",
            "Epoch 6/40\n",
            "12/12 [==============================] - 6s 451ms/step - loss: 2.0381 - accuracy: 0.6028 - val_loss: 2.0401 - val_accuracy: 0.6042\n",
            "Epoch 7/40\n",
            "12/12 [==============================] - 6s 460ms/step - loss: 1.9915 - accuracy: 0.6250 - val_loss: 1.9960 - val_accuracy: 0.5417\n",
            "Epoch 8/40\n",
            "12/12 [==============================] - 6s 447ms/step - loss: 1.9260 - accuracy: 0.6417 - val_loss: 1.9329 - val_accuracy: 0.5917\n",
            "Epoch 9/40\n",
            "12/12 [==============================] - 6s 489ms/step - loss: 1.8669 - accuracy: 0.6111 - val_loss: 1.8785 - val_accuracy: 0.6042\n",
            "Epoch 10/40\n",
            "12/12 [==============================] - 6s 450ms/step - loss: 1.7981 - accuracy: 0.6472 - val_loss: 1.8883 - val_accuracy: 0.5625\n",
            "Epoch 11/40\n",
            "12/12 [==============================] - 6s 443ms/step - loss: 1.7660 - accuracy: 0.6694 - val_loss: 1.7649 - val_accuracy: 0.6833\n",
            "Epoch 12/40\n",
            "12/12 [==============================] - 6s 465ms/step - loss: 1.7116 - accuracy: 0.6944 - val_loss: 1.7691 - val_accuracy: 0.6250\n",
            "Epoch 13/40\n",
            "12/12 [==============================] - 6s 466ms/step - loss: 1.7006 - accuracy: 0.6417 - val_loss: 1.7328 - val_accuracy: 0.6042\n",
            "Epoch 14/40\n",
            "12/12 [==============================] - 6s 443ms/step - loss: 1.6674 - accuracy: 0.7000 - val_loss: 1.6703 - val_accuracy: 0.6500\n",
            "Epoch 15/40\n",
            "12/12 [==============================] - 6s 463ms/step - loss: 1.6555 - accuracy: 0.6917 - val_loss: 1.6980 - val_accuracy: 0.6667\n",
            "Epoch 16/40\n",
            "12/12 [==============================] - 6s 487ms/step - loss: 1.5905 - accuracy: 0.7250 - val_loss: 1.6646 - val_accuracy: 0.6250\n",
            "Epoch 17/40\n",
            "12/12 [==============================] - 6s 440ms/step - loss: 1.5448 - accuracy: 0.7000 - val_loss: 1.6159 - val_accuracy: 0.6792\n",
            "Epoch 18/40\n",
            "12/12 [==============================] - 6s 446ms/step - loss: 1.6463 - accuracy: 0.6472 - val_loss: 1.6484 - val_accuracy: 0.6542\n",
            "Epoch 19/40\n",
            "12/12 [==============================] - 6s 448ms/step - loss: 1.5594 - accuracy: 0.7000 - val_loss: 1.5791 - val_accuracy: 0.6833\n",
            "Epoch 20/40\n",
            "12/12 [==============================] - 6s 492ms/step - loss: 1.5690 - accuracy: 0.6917 - val_loss: 1.6122 - val_accuracy: 0.6625\n",
            "Epoch 21/40\n",
            "12/12 [==============================] - 6s 448ms/step - loss: 1.5561 - accuracy: 0.6917 - val_loss: 1.5841 - val_accuracy: 0.6875\n",
            "Epoch 22/40\n",
            "12/12 [==============================] - 8s 702ms/step - loss: 1.5192 - accuracy: 0.7167 - val_loss: 1.6051 - val_accuracy: 0.6417\n",
            "Epoch 23/40\n",
            "12/12 [==============================] - 6s 447ms/step - loss: 1.4647 - accuracy: 0.7194 - val_loss: 1.5506 - val_accuracy: 0.6708\n",
            "Epoch 24/40\n",
            "12/12 [==============================] - 11s 719ms/step - loss: 1.5097 - accuracy: 0.7139 - val_loss: 1.5196 - val_accuracy: 0.6875\n",
            "Epoch 25/40\n",
            "12/12 [==============================] - 6s 496ms/step - loss: 1.4534 - accuracy: 0.7528 - val_loss: 1.6187 - val_accuracy: 0.6500\n",
            "Epoch 26/40\n",
            "12/12 [==============================] - 6s 442ms/step - loss: 1.4660 - accuracy: 0.7472 - val_loss: 1.5954 - val_accuracy: 0.6667\n",
            "Epoch 27/40\n",
            "12/12 [==============================] - 6s 444ms/step - loss: 1.4568 - accuracy: 0.7222 - val_loss: 1.5183 - val_accuracy: 0.6667\n",
            "Epoch 28/40\n",
            "12/12 [==============================] - 6s 452ms/step - loss: 1.4598 - accuracy: 0.7056 - val_loss: 1.4973 - val_accuracy: 0.6917\n",
            "Epoch 29/40\n",
            "12/12 [==============================] - 6s 448ms/step - loss: 1.4420 - accuracy: 0.7139 - val_loss: 1.4656 - val_accuracy: 0.7083\n",
            "Epoch 30/40\n",
            "12/12 [==============================] - 6s 448ms/step - loss: 1.3893 - accuracy: 0.7528 - val_loss: 1.5041 - val_accuracy: 0.6875\n",
            "Epoch 31/40\n",
            "12/12 [==============================] - 6s 443ms/step - loss: 1.3693 - accuracy: 0.7694 - val_loss: 1.4899 - val_accuracy: 0.6875\n",
            "Epoch 32/40\n",
            "12/12 [==============================] - 6s 490ms/step - loss: 1.4046 - accuracy: 0.7222 - val_loss: 1.5232 - val_accuracy: 0.6792\n",
            "Epoch 33/40\n",
            "12/12 [==============================] - 6s 460ms/step - loss: 1.4702 - accuracy: 0.6889 - val_loss: 1.4759 - val_accuracy: 0.6750\n",
            "Epoch 34/40\n",
            "12/12 [==============================] - 6s 450ms/step - loss: 1.3658 - accuracy: 0.7500 - val_loss: 1.4839 - val_accuracy: 0.6917\n",
            "Epoch 35/40\n",
            "12/12 [==============================] - 6s 453ms/step - loss: 1.3799 - accuracy: 0.7389 - val_loss: 1.4298 - val_accuracy: 0.7292\n",
            "Epoch 36/40\n",
            "12/12 [==============================] - 6s 446ms/step - loss: 1.4017 - accuracy: 0.7250 - val_loss: 1.4343 - val_accuracy: 0.7417\n",
            "Epoch 37/40\n",
            "12/12 [==============================] - 6s 467ms/step - loss: 1.3867 - accuracy: 0.7250 - val_loss: 1.5100 - val_accuracy: 0.6875\n",
            "Epoch 38/40\n",
            "12/12 [==============================] - 6s 447ms/step - loss: 1.3267 - accuracy: 0.7528 - val_loss: 1.4517 - val_accuracy: 0.7250\n",
            "Epoch 39/40\n",
            "12/12 [==============================] - 6s 451ms/step - loss: 1.3661 - accuracy: 0.7556 - val_loss: 1.4731 - val_accuracy: 0.7042\n",
            "Epoch 40/40\n",
            "12/12 [==============================] - 6s 454ms/step - loss: 1.3663 - accuracy: 0.7250 - val_loss: 1.4479 - val_accuracy: 0.6917\n",
            "Found 50 files belonging to 1 classes.\n",
            "1/1 [==============================] - 5s 5s/step - loss: 0.0650 - accuracy: 0.0000e+00 - val_loss: 0.0635 - val_accuracy: 0.0000e+00\n",
            "Found 98 files belonging to 2 classes.\n",
            "Epoch 1/8\n",
            "3/3 [==============================] - 6s 1s/step - loss: 0.7601 - accuracy: 0.6667 - val_loss: 0.6966 - val_accuracy: 0.8167\n",
            "Epoch 2/8\n",
            "3/3 [==============================] - 2s 549ms/step - loss: 0.6690 - accuracy: 0.8556 - val_loss: 0.6424 - val_accuracy: 0.8667\n",
            "Epoch 3/8\n",
            "3/3 [==============================] - 2s 646ms/step - loss: 0.5863 - accuracy: 0.9111 - val_loss: 0.5973 - val_accuracy: 0.8833\n",
            "Epoch 4/8\n",
            "3/3 [==============================] - 2s 620ms/step - loss: 0.5381 - accuracy: 0.9222 - val_loss: 0.5157 - val_accuracy: 0.9833\n",
            "Epoch 5/8\n",
            "3/3 [==============================] - 2s 551ms/step - loss: 0.4748 - accuracy: 0.9667 - val_loss: 0.4996 - val_accuracy: 0.9500\n",
            "Epoch 6/8\n",
            "3/3 [==============================] - 2s 555ms/step - loss: 0.4500 - accuracy: 0.9444 - val_loss: 0.4326 - val_accuracy: 0.9833\n",
            "Epoch 7/8\n",
            "3/3 [==============================] - 2s 547ms/step - loss: 0.4128 - accuracy: 0.9222 - val_loss: 0.3998 - val_accuracy: 1.0000\n",
            "Epoch 8/8\n",
            "3/3 [==============================] - 2s 547ms/step - loss: 0.3977 - accuracy: 0.9222 - val_loss: 0.3706 - val_accuracy: 0.9833\n",
            "Found 47 files belonging to 1 classes.\n",
            "1/1 [==============================] - 6s 6s/step - loss: 0.0659 - accuracy: 0.0000e+00 - val_loss: 0.0644 - val_accuracy: 0.0000e+00\n",
            "Found 192 files belonging to 4 classes.\n",
            "Epoch 1/16\n",
            "5/5 [==============================] - 8s 956ms/step - loss: 1.6346 - accuracy: 0.2600 - val_loss: 1.4942 - val_accuracy: 0.5444\n",
            "Epoch 2/16\n",
            "5/5 [==============================] - 3s 494ms/step - loss: 1.5187 - accuracy: 0.4000 - val_loss: 1.4049 - val_accuracy: 0.4444\n",
            "Epoch 3/16\n",
            "5/5 [==============================] - 3s 497ms/step - loss: 1.4128 - accuracy: 0.5600 - val_loss: 1.3368 - val_accuracy: 0.4556\n",
            "Epoch 4/16\n",
            "5/5 [==============================] - 4s 885ms/step - loss: 1.3191 - accuracy: 0.6200 - val_loss: 1.2946 - val_accuracy: 0.5222\n",
            "Epoch 5/16\n",
            "5/5 [==============================] - 3s 501ms/step - loss: 1.2151 - accuracy: 0.7267 - val_loss: 1.2150 - val_accuracy: 0.7000\n",
            "Epoch 6/16\n",
            "5/5 [==============================] - 3s 494ms/step - loss: 1.2106 - accuracy: 0.6800 - val_loss: 1.1522 - val_accuracy: 0.7556\n",
            "Epoch 7/16\n",
            "5/5 [==============================] - 3s 505ms/step - loss: 1.1253 - accuracy: 0.7733 - val_loss: 1.1441 - val_accuracy: 0.7444\n",
            "Epoch 8/16\n",
            "5/5 [==============================] - 4s 885ms/step - loss: 1.0692 - accuracy: 0.7800 - val_loss: 1.0463 - val_accuracy: 0.8000\n",
            "Epoch 9/16\n",
            "5/5 [==============================] - 3s 500ms/step - loss: 1.0761 - accuracy: 0.7867 - val_loss: 1.1659 - val_accuracy: 0.6556\n",
            "Epoch 10/16\n",
            "5/5 [==============================] - 3s 503ms/step - loss: 1.0287 - accuracy: 0.8400 - val_loss: 1.0435 - val_accuracy: 0.7778\n",
            "Epoch 11/16\n",
            "5/5 [==============================] - 4s 875ms/step - loss: 0.9755 - accuracy: 0.8400 - val_loss: 1.0251 - val_accuracy: 0.7444\n",
            "Epoch 12/16\n",
            "5/5 [==============================] - 3s 497ms/step - loss: 0.8915 - accuracy: 0.8600 - val_loss: 0.9698 - val_accuracy: 0.7556\n",
            "Epoch 13/16\n",
            "5/5 [==============================] - 3s 492ms/step - loss: 0.8970 - accuracy: 0.8600 - val_loss: 1.0122 - val_accuracy: 0.7444\n",
            "Epoch 14/16\n",
            "5/5 [==============================] - 3s 501ms/step - loss: 0.9044 - accuracy: 0.8467 - val_loss: 0.9523 - val_accuracy: 0.7778\n",
            "Epoch 15/16\n",
            "5/5 [==============================] - 3s 494ms/step - loss: 0.8596 - accuracy: 0.8733 - val_loss: 0.9432 - val_accuracy: 0.7667\n",
            "Epoch 16/16\n",
            "5/5 [==============================] - 3s 501ms/step - loss: 0.8207 - accuracy: 0.8600 - val_loss: 0.9026 - val_accuracy: 0.7889\n",
            "Found 50 files belonging to 1 classes.\n",
            "1/1 [==============================] - 6s 6s/step - loss: 0.0656 - accuracy: 0.0000e+00 - val_loss: 0.0642 - val_accuracy: 0.0000e+00\n",
            "Found 50 files belonging to 1 classes.\n",
            "1/1 [==============================] - 5s 5s/step - loss: 0.0655 - accuracy: 0.0000e+00 - val_loss: 0.0641 - val_accuracy: 0.0000e+00\n",
            "Found 139 files belonging to 3 classes.\n",
            "Epoch 1/12\n",
            "3/3 [==============================] - 7s 1s/step - loss: 1.2869 - accuracy: 0.3667 - val_loss: 1.2765 - val_accuracy: 0.4500\n",
            "Epoch 2/12\n",
            "3/3 [==============================] - 2s 599ms/step - loss: 1.1919 - accuracy: 0.5778 - val_loss: 1.1716 - val_accuracy: 0.5667\n",
            "Epoch 3/12\n",
            "3/3 [==============================] - 2s 603ms/step - loss: 1.1550 - accuracy: 0.6222 - val_loss: 1.1186 - val_accuracy: 0.5500\n",
            "Epoch 4/12\n",
            "3/3 [==============================] - 2s 887ms/step - loss: 1.0609 - accuracy: 0.6222 - val_loss: 1.1203 - val_accuracy: 0.5500\n",
            "Epoch 5/12\n",
            "3/3 [==============================] - 2s 604ms/step - loss: 1.0879 - accuracy: 0.6444 - val_loss: 1.0560 - val_accuracy: 0.6333\n",
            "Epoch 6/12\n",
            "3/3 [==============================] - 2s 611ms/step - loss: 0.9894 - accuracy: 0.7444 - val_loss: 1.0371 - val_accuracy: 0.7333\n",
            "Epoch 7/12\n",
            "3/3 [==============================] - 2s 610ms/step - loss: 0.9973 - accuracy: 0.7111 - val_loss: 0.9351 - val_accuracy: 0.7667\n",
            "Epoch 8/12\n",
            "3/3 [==============================] - 2s 599ms/step - loss: 0.9486 - accuracy: 0.7667 - val_loss: 0.9101 - val_accuracy: 0.7333\n",
            "Epoch 9/12\n",
            "3/3 [==============================] - 2s 595ms/step - loss: 0.8730 - accuracy: 0.7889 - val_loss: 0.9539 - val_accuracy: 0.6500\n",
            "Epoch 10/12\n",
            "3/3 [==============================] - 2s 718ms/step - loss: 0.9020 - accuracy: 0.8111 - val_loss: 0.8888 - val_accuracy: 0.6833\n",
            "Epoch 11/12\n",
            "3/3 [==============================] - 2s 647ms/step - loss: 0.8395 - accuracy: 0.7889 - val_loss: 0.8885 - val_accuracy: 0.7000\n",
            "Epoch 12/12\n",
            "3/3 [==============================] - 2s 606ms/step - loss: 0.7986 - accuracy: 0.8444 - val_loss: 0.8619 - val_accuracy: 0.7167\n",
            "Found 196 files belonging to 4 classes.\n",
            "Epoch 1/16\n",
            "5/5 [==============================] - 7s 824ms/step - loss: 1.6230 - accuracy: 0.3000 - val_loss: 1.4732 - val_accuracy: 0.4889\n",
            "Epoch 2/16\n",
            "5/5 [==============================] - 3s 500ms/step - loss: 1.4339 - accuracy: 0.5600 - val_loss: 1.3211 - val_accuracy: 0.6556\n",
            "Epoch 3/16\n",
            "5/5 [==============================] - 3s 555ms/step - loss: 1.2710 - accuracy: 0.6933 - val_loss: 1.1642 - val_accuracy: 0.7444\n",
            "Epoch 4/16\n",
            "5/5 [==============================] - 3s 501ms/step - loss: 1.1474 - accuracy: 0.7733 - val_loss: 1.0440 - val_accuracy: 0.8111\n",
            "Epoch 5/16\n",
            "5/5 [==============================] - 3s 494ms/step - loss: 1.0520 - accuracy: 0.7667 - val_loss: 0.9872 - val_accuracy: 0.8222\n",
            "Epoch 6/16\n",
            "5/5 [==============================] - 3s 490ms/step - loss: 1.0426 - accuracy: 0.7467 - val_loss: 0.9246 - val_accuracy: 0.8444\n",
            "Epoch 7/16\n",
            "5/5 [==============================] - 3s 521ms/step - loss: 0.9283 - accuracy: 0.8067 - val_loss: 0.8680 - val_accuracy: 0.8667\n",
            "Epoch 8/16\n",
            "5/5 [==============================] - 4s 887ms/step - loss: 0.8596 - accuracy: 0.8400 - val_loss: 0.8222 - val_accuracy: 0.8889\n",
            "Epoch 9/16\n",
            "5/5 [==============================] - 3s 500ms/step - loss: 0.8389 - accuracy: 0.8600 - val_loss: 0.7559 - val_accuracy: 0.9000\n",
            "Epoch 10/16\n",
            "5/5 [==============================] - 3s 494ms/step - loss: 0.7936 - accuracy: 0.8533 - val_loss: 0.7289 - val_accuracy: 0.9111\n",
            "Epoch 11/16\n",
            "5/5 [==============================] - 3s 554ms/step - loss: 0.7477 - accuracy: 0.8867 - val_loss: 0.7009 - val_accuracy: 0.9000\n",
            "Epoch 12/16\n",
            "5/5 [==============================] - 3s 492ms/step - loss: 0.7859 - accuracy: 0.8400 - val_loss: 0.6613 - val_accuracy: 0.8667\n",
            "Epoch 13/16\n",
            "5/5 [==============================] - 4s 882ms/step - loss: 0.7297 - accuracy: 0.8600 - val_loss: 0.6945 - val_accuracy: 0.8778\n",
            "Epoch 14/16\n",
            "5/5 [==============================] - 3s 496ms/step - loss: 0.7040 - accuracy: 0.8867 - val_loss: 0.6820 - val_accuracy: 0.9111\n",
            "Epoch 15/16\n",
            "5/5 [==============================] - 3s 497ms/step - loss: 0.7157 - accuracy: 0.8800 - val_loss: 0.6605 - val_accuracy: 0.8889\n",
            "Epoch 16/16\n",
            "5/5 [==============================] - 3s 497ms/step - loss: 0.6873 - accuracy: 0.8467 - val_loss: 0.6210 - val_accuracy: 0.9111\n",
            "Found 98 files belonging to 2 classes.\n",
            "Epoch 1/8\n",
            "3/3 [==============================] - 6s 1s/step - loss: 0.7651 - accuracy: 0.6667 - val_loss: 0.7009 - val_accuracy: 0.7833\n",
            "Epoch 2/8\n",
            "3/3 [==============================] - 2s 871ms/step - loss: 0.6765 - accuracy: 0.8222 - val_loss: 0.6022 - val_accuracy: 0.9167\n",
            "Epoch 3/8\n",
            "3/3 [==============================] - 2s 550ms/step - loss: 0.5753 - accuracy: 0.9333 - val_loss: 0.5197 - val_accuracy: 0.9833\n",
            "Epoch 4/8\n",
            "3/3 [==============================] - 2s 551ms/step - loss: 0.4877 - accuracy: 0.9444 - val_loss: 0.4436 - val_accuracy: 1.0000\n",
            "Epoch 5/8\n",
            "3/3 [==============================] - 2s 554ms/step - loss: 0.4392 - accuracy: 0.9778 - val_loss: 0.4011 - val_accuracy: 1.0000\n",
            "Epoch 6/8\n",
            "3/3 [==============================] - 2s 560ms/step - loss: 0.4101 - accuracy: 0.9667 - val_loss: 0.3767 - val_accuracy: 0.9833\n",
            "Epoch 7/8\n",
            "3/3 [==============================] - 2s 548ms/step - loss: 0.3556 - accuracy: 0.9667 - val_loss: 0.3297 - val_accuracy: 0.9833\n",
            "Epoch 8/8\n",
            "3/3 [==============================] - 2s 548ms/step - loss: 0.3488 - accuracy: 0.9556 - val_loss: 0.3138 - val_accuracy: 1.0000\n"
          ]
        }
      ]
    },
    {
      "cell_type": "code",
      "source": [
        "\n",
        "diseases_by_leafs = (name for name in os.listdir(PATH))\n",
        "for dataset_name in diseases_by_leafs:\n",
        "  model = disease_models[dataset_name]['model']\n",
        "  test_dataset = disease_models[dataset_name]['test_dataset']\n",
        "  class_names = disease_models[dataset_name]['class_names']\n",
        "\n",
        "  print(f\"{'-'*50}\\n: {'-'*20}{dataset_name}{'-'*20}\\n {'-'*50}\")\n",
        "  evaluate_model(model, test_dataset, class_names)\n",
        "  print('_'*50+'\\n')\n",
        "\n",
        "diseases_by_leafs"
      ],
      "metadata": {
        "colab": {
          "base_uri": "https://localhost:8080/"
        },
        "id": "41CMaiEy90D0",
        "outputId": "e25e30ab-afaa-4ed9-c226-fe40103f3c39"
      },
      "execution_count": 28,
      "outputs": [
        {
          "output_type": "stream",
          "name": "stdout",
          "text": [
            "--------------------------------------------------\n",
            ": --------------------Apple--------------------\n",
            " --------------------------------------------------\n",
            "4/4 [==============================] - 6s 617ms/step\n",
            "                  precision    recall  f1-score   support\n",
            "\n",
            "      Apple_scab       1.00      0.68      0.81        28\n",
            "       Black_rot       1.00      0.78      0.88        27\n",
            "Cedar_apple_rust       0.68      0.96      0.79        28\n",
            "         healthy       0.71      0.81      0.76        21\n",
            "\n",
            "        accuracy                           0.81       104\n",
            "       macro avg       0.85      0.81      0.81       104\n",
            "    weighted avg       0.85      0.81      0.81       104\n",
            "\n",
            "__________________________________________________\n",
            "\n",
            "--------------------------------------------------\n",
            ": --------------------Pepper--------------------\n",
            " --------------------------------------------------\n",
            "2/2 [==============================] - 2s 822ms/step\n",
            "                precision    recall  f1-score   support\n",
            "\n",
            "Bacterial_spot       0.82      0.74      0.78        19\n",
            "       healthy       0.74      0.82      0.78        17\n",
            "\n",
            "      accuracy                           0.78        36\n",
            "     macro avg       0.78      0.78      0.78        36\n",
            "  weighted avg       0.78      0.78      0.78        36\n",
            "\n",
            "__________________________________________________\n",
            "\n",
            "--------------------------------------------------\n",
            ": --------------------Peach--------------------\n",
            " --------------------------------------------------\n",
            "2/2 [==============================] - 1s 217ms/step\n",
            "                precision    recall  f1-score   support\n",
            "\n",
            "Bacterial_spot       1.00      0.94      0.97        16\n",
            "       healthy       0.95      1.00      0.98        20\n",
            "\n",
            "      accuracy                           0.97        36\n",
            "     macro avg       0.98      0.97      0.97        36\n",
            "  weighted avg       0.97      0.97      0.97        36\n",
            "\n",
            "__________________________________________________\n",
            "\n",
            "--------------------------------------------------\n",
            ": --------------------Soybean--------------------\n",
            " --------------------------------------------------\n",
            "1/1 [==============================] - 4s 4s/step\n",
            "              precision    recall  f1-score   support\n",
            "\n",
            "     healthy       1.00      1.00      1.00        20\n",
            "\n",
            "    accuracy                           1.00        20\n",
            "   macro avg       1.00      1.00      1.00        20\n",
            "weighted avg       1.00      1.00      1.00        20\n",
            "\n",
            "__________________________________________________\n",
            "\n",
            "--------------------------------------------------\n",
            ": --------------------Tomato--------------------\n",
            " --------------------------------------------------\n"
          ]
        },
        {
          "output_type": "stream",
          "name": "stderr",
          "text": [
            "WARNING:tensorflow:5 out of the last 10 calls to <function Model.make_predict_function.<locals>.predict_function at 0x7fac59d4f640> triggered tf.function retracing. Tracing is expensive and the excessive number of tracings could be due to (1) creating @tf.function repeatedly in a loop, (2) passing tensors with different shapes, (3) passing Python objects instead of tensors. For (1), please define your @tf.function outside of the loop. For (2), @tf.function has reduce_retracing=True option that can avoid unnecessary retracing. For (3), please refer to https://www.tensorflow.org/guide/function#controlling_retracing and https://www.tensorflow.org/api_docs/python/tf/function for  more details.\n"
          ]
        },
        {
          "output_type": "stream",
          "name": "stdout",
          "text": [
            "8/8 [==============================] - 8s 707ms/step\n",
            "                                      precision    recall  f1-score   support\n",
            "\n",
            "                      Bacterial_spot       0.71      0.69      0.70        29\n",
            "                        Early_blight       0.67      0.28      0.39        29\n",
            "                         Late_blight       0.82      0.54      0.65        26\n",
            "                           Leaf_Mold       0.79      0.71      0.75        21\n",
            "                  Septoria_leaf_spot       0.54      0.77      0.63        26\n",
            "Spider_mites Two-spotted_spider_mite       0.57      0.97      0.72        29\n",
            "                         Target_Spot       0.92      0.50      0.65        22\n",
            "       Tomato_Yellow_Leaf_Curl_Virus       0.96      0.92      0.94        25\n",
            "                 Tomato_mosaic_virus       0.69      1.00      0.81        22\n",
            "                             healthy       0.87      0.83      0.85        24\n",
            "\n",
            "                            accuracy                           0.72       253\n",
            "                           macro avg       0.75      0.72      0.71       253\n",
            "                        weighted avg       0.75      0.72      0.70       253\n",
            "\n",
            "__________________________________________________\n",
            "\n",
            "--------------------------------------------------\n",
            ": --------------------Squash--------------------\n",
            " --------------------------------------------------\n",
            "1/1 [==============================] - 1s 1s/step\n",
            "                precision    recall  f1-score   support\n",
            "\n",
            "Powdery_mildew       1.00      1.00      1.00        20\n",
            "\n",
            "      accuracy                           1.00        20\n",
            "     macro avg       1.00      1.00      1.00        20\n",
            "  weighted avg       1.00      1.00      1.00        20\n",
            "\n",
            "__________________________________________________\n",
            "\n",
            "--------------------------------------------------\n",
            ": --------------------Strawberry--------------------\n",
            " --------------------------------------------------\n",
            "2/2 [==============================] - 2s 984ms/step\n",
            "              precision    recall  f1-score   support\n",
            "\n",
            " Leaf_scorch       1.00      0.95      0.98        22\n",
            "     healthy       0.94      1.00      0.97        16\n",
            "\n",
            "    accuracy                           0.97        38\n",
            "   macro avg       0.97      0.98      0.97        38\n",
            "weighted avg       0.98      0.97      0.97        38\n",
            "\n",
            "__________________________________________________\n",
            "\n",
            "--------------------------------------------------\n",
            ": --------------------Raspberry--------------------\n",
            " --------------------------------------------------\n",
            "1/1 [==============================] - 3s 3s/step\n",
            "              precision    recall  f1-score   support\n",
            "\n",
            "     healthy       1.00      1.00      1.00        17\n",
            "\n",
            "    accuracy                           1.00        17\n",
            "   macro avg       1.00      1.00      1.00        17\n",
            "weighted avg       1.00      1.00      1.00        17\n",
            "\n",
            "__________________________________________________\n",
            "\n",
            "--------------------------------------------------\n",
            ": --------------------Grape--------------------\n",
            " --------------------------------------------------\n"
          ]
        },
        {
          "output_type": "stream",
          "name": "stderr",
          "text": [
            "WARNING:tensorflow:5 out of the last 13 calls to <function Model.make_predict_function.<locals>.predict_function at 0x7fac583ae050> triggered tf.function retracing. Tracing is expensive and the excessive number of tracings could be due to (1) creating @tf.function repeatedly in a loop, (2) passing tensors with different shapes, (3) passing Python objects instead of tensors. For (1), please define your @tf.function outside of the loop. For (2), @tf.function has reduce_retracing=True option that can avoid unnecessary retracing. For (3), please refer to https://www.tensorflow.org/guide/function#controlling_retracing and https://www.tensorflow.org/api_docs/python/tf/function for  more details.\n"
          ]
        },
        {
          "output_type": "stream",
          "name": "stdout",
          "text": [
            "4/4 [==============================] - 2s 225ms/step\n",
            "                                    precision    recall  f1-score   support\n",
            "\n",
            "                         Black_rot       0.68      0.65      0.67        26\n",
            "              Esca_(Black_Measles)       0.65      0.92      0.76        26\n",
            "Leaf_blight_(Isariopsis_Leaf_Spot)       1.00      0.61      0.76        28\n",
            "                           healthy       0.87      0.91      0.89        22\n",
            "\n",
            "                          accuracy                           0.76       102\n",
            "                         macro avg       0.80      0.77      0.77       102\n",
            "                      weighted avg       0.80      0.76      0.76       102\n",
            "\n",
            "__________________________________________________\n",
            "\n",
            "--------------------------------------------------\n",
            ": --------------------Blueberry--------------------\n",
            " --------------------------------------------------\n",
            "1/1 [==============================] - 1s 943ms/step\n",
            "              precision    recall  f1-score   support\n",
            "\n",
            "     healthy       1.00      1.00      1.00        20\n",
            "\n",
            "    accuracy                           1.00        20\n",
            "   macro avg       1.00      1.00      1.00        20\n",
            "weighted avg       1.00      1.00      1.00        20\n",
            "\n",
            "__________________________________________________\n",
            "\n",
            "--------------------------------------------------\n",
            ": --------------------Orange--------------------\n",
            " --------------------------------------------------\n",
            "1/1 [==============================] - 1s 1s/step\n",
            "                                 precision    recall  f1-score   support\n",
            "\n",
            "Haunglongbing_(Citrus_greening)       1.00      1.00      1.00        20\n",
            "\n",
            "                       accuracy                           1.00        20\n",
            "                      macro avg       1.00      1.00      1.00        20\n",
            "                   weighted avg       1.00      1.00      1.00        20\n",
            "\n",
            "__________________________________________________\n",
            "\n",
            "--------------------------------------------------\n",
            ": --------------------Potato--------------------\n",
            " --------------------------------------------------\n",
            "3/3 [==============================] - 3s 1s/step\n",
            "              precision    recall  f1-score   support\n",
            "\n",
            "Early_blight       0.97      0.94      0.95        32\n",
            " Late_blight       0.67      0.97      0.79        30\n",
            "     healthy       0.80      0.24      0.36        17\n",
            "\n",
            "    accuracy                           0.80        79\n",
            "   macro avg       0.81      0.71      0.70        79\n",
            "weighted avg       0.82      0.80      0.77        79\n",
            "\n",
            "__________________________________________________\n",
            "\n",
            "--------------------------------------------------\n",
            ": --------------------Corn--------------------\n",
            " --------------------------------------------------\n",
            "4/4 [==============================] - 3s 630ms/step\n",
            "                                     precision    recall  f1-score   support\n",
            "\n",
            "Cercospora_leaf_spot Gray_leaf_spot       0.92      0.72      0.81        32\n",
            "                        Common_rust       1.00      0.96      0.98        26\n",
            "               Northern_Leaf_Blight       0.72      0.93      0.81        28\n",
            "                            healthy       1.00      1.00      1.00        20\n",
            "\n",
            "                           accuracy                           0.89       106\n",
            "                          macro avg       0.91      0.90      0.90       106\n",
            "                       weighted avg       0.90      0.89      0.89       106\n",
            "\n",
            "__________________________________________________\n",
            "\n",
            "--------------------------------------------------\n",
            ": --------------------Cherry--------------------\n",
            " --------------------------------------------------\n",
            "2/2 [==============================] - 1s 271ms/step\n",
            "                precision    recall  f1-score   support\n",
            "\n",
            "Powdery_mildew       1.00      1.00      1.00        15\n",
            "       healthy       1.00      1.00      1.00        23\n",
            "\n",
            "      accuracy                           1.00        38\n",
            "     macro avg       1.00      1.00      1.00        38\n",
            "  weighted avg       1.00      1.00      1.00        38\n",
            "\n",
            "__________________________________________________\n",
            "\n"
          ]
        },
        {
          "output_type": "execute_result",
          "data": {
            "text/plain": [
              "<generator object <genexpr> at 0x7fae2c19cac0>"
            ]
          },
          "metadata": {},
          "execution_count": 28
        }
      ]
    },
    {
      "cell_type": "markdown",
      "source": [
        "### Evaluating model"
      ],
      "metadata": {
        "id": "FEWb97rLbjp9"
      }
    },
    {
      "cell_type": "code",
      "source": [
        "acc = history.history['accuracy']\n",
        "val_acc = history.history['val_accuracy']\n",
        "\n",
        "loss = history.history['loss']\n",
        "val_loss = history.history['val_loss']\n",
        "\n",
        "plt.figure(figsize=(8, 8))\n",
        "plt.subplot(2, 1, 1)\n",
        "plt.plot(acc, label='Training Accuracy')\n",
        "plt.plot(val_acc, label='Validation Accuracy')\n",
        "plt.legend(loc='lower right')\n",
        "plt.ylabel('Accuracy')\n",
        "plt.ylim([0,1])\n",
        "plt.title('Training and Validation Accuracy')\n",
        "\n",
        "plt.subplot(2, 1, 2)\n",
        "plt.plot(loss, label='Training Loss')\n",
        "plt.plot(val_loss, label='Validation Loss')\n",
        "plt.legend(loc='upper right')\n",
        "plt.ylabel('Cross Entropy')\n",
        "plt.ylim([0,max(plt.ylim())])\n",
        "plt.title('Training and Validation Loss')\n",
        "plt.xlabel('epoch')\n",
        "plt.show()"
      ],
      "metadata": {
        "id": "CO3FXAKGbelH",
        "colab": {
          "base_uri": "https://localhost:8080/",
          "height": 718
        },
        "outputId": "32820768-a607-4296-ee5c-96e74e938216"
      },
      "execution_count": 29,
      "outputs": [
        {
          "output_type": "display_data",
          "data": {
            "text/plain": [
              "<Figure size 800x800 with 2 Axes>"
            ],
            "image/png": "[encoded data removed]"
          },
          "metadata": {}
        }
      ]
    },
    {
      "cell_type": "markdown",
      "source": [
        "## Connect pipeline"
      ],
      "metadata": {
        "id": "_1PipeEyb5zn"
      }
    },
    {
      "cell_type": "code",
      "source": [
        "import cv2\n",
        "\n",
        "def predict(source):\n",
        "  yolo_pred = yolo_model.predict(\n",
        "    source=source,\n",
        "    conf=0.25\n",
        "  )\n",
        "\n",
        "  clear_output()\n",
        "  if os.path.isdir(source):\n",
        "    images_names = sorted(list(os.listdir(source)))\n",
        "    images_names = [os.path.join(source, img) for img in images_names]\n",
        "  else:\n",
        "    images_names = [source]\n",
        "  images = [cv2.imread(img) for img in images_names]\n",
        "  predictions_class = []\n",
        "  leafs_sets = []\n",
        "  for pred, img in zip(yolo_pred, images):\n",
        "    cls = pred.boxes.cls.cpu().numpy().astype(int)\n",
        "    cls = [yolo_names[cl] for cl in cls]\n",
        "    predictions_class.append(cls)\n",
        "    \n",
        "    bounding_boxes = [box.xyxy.cpu().numpy().astype(int)[0] for box in pred.boxes]\n",
        "    cropped_leaf_imgs = [img[bb[1]:bb[3], bb[0]:bb[2]] for bb in bounding_boxes]\n",
        "    resized_leafs = [cv2.resize(img, IMG_SIZE, interpolation = cv2.INTER_AREA) for img in cropped_leaf_imgs]\n",
        "    leafs_sets.append(np.array(resized_leafs))\n",
        "  \n",
        "  leafs_sets = np.array(leafs_sets)\n",
        "  predictions_diseases = []\n",
        "  for leafs, cls in zip(leafs_sets, predictions_class):\n",
        "    for leaf, cl in zip(leafs, cls):\n",
        "      print(cl)\n",
        "      leaf = np.array([leaf])\n",
        "      model = disease_models[cl]['model']\n",
        "      pred = model.predict(leaf)\n",
        "\n",
        "      diseases = [disease_models[cl]['class_names'][np.argmax(p)] for p in pred]\n",
        "        \n",
        "      \n",
        "      predictions_diseases.append(diseases)\n",
        "\n",
        "\n",
        "  clear_output()\n",
        "\n",
        "  return list(zip(images_names, predictions_class, predictions_diseases))\n",
        "\n",
        "def prompt_predict(pred):\n",
        "  for path, cls, diseases in pred:\n",
        "    #plt.imshow(cv2.imread(path))\n",
        "    #plt.axis('off')\n",
        "    #plt.show()\n",
        "    print(f'path: {path}\\npred: {cls}, {diseases}\\n')\n",
        "\n",
        "def pred_accuracy(pred):\n",
        "\n",
        "  def norm_str(string):\n",
        "    return ''.join(e for e in string if e.isalnum() and not e.isnumeric()).lower()\n",
        "\n",
        "  count_cls = 0\n",
        "  count_disease = 0\n",
        "  count = 0\n",
        "  for path, cls, diseases in pred:\n",
        "    if cls:\n",
        "      cls = norm_str(cls[0])\n",
        "      diseases = norm_str(diseases[0])\n",
        "      path = norm_str(path)\n",
        "      if cls in path:\n",
        "        count_cls+=1\n",
        "      if diseases in path:\n",
        "        count_disease+=1\n",
        "      if cls in path and diseases in path:\n",
        "        count+=1\n",
        "  m = len(pred)\n",
        "  return count/m, count_cls/m, count_disease/m\n"
      ],
      "metadata": {
        "id": "3WRjqPzvcCEZ"
      },
      "execution_count": 116,
      "outputs": []
    },
    {
      "cell_type": "code",
      "source": [
        "pred = predict('/content/datasets/val/images')\n",
        "total_acc, cls_acc, disease_acc = pred_accuracy(pred)\n",
        "\n",
        "print(f\"Total accuracy(leaf and disease corrects): {total_acc}\\nClass accuracy: {cls_acc}\\nDisease accuracy: {disease_acc}\")"
      ],
      "metadata": {
        "colab": {
          "base_uri": "https://localhost:8080/"
        },
        "id": "iDUu14pAQ3cV",
        "outputId": "37186349-31e5-44b7-8c22-a36ff19e67b8"
      },
      "execution_count": 113,
      "outputs": [
        {
          "output_type": "stream",
          "name": "stdout",
          "text": [
            "Total accuracy(leaf and disease corrects): 0.8125\n",
            "Class accuracy: 0.875\n",
            "Disease accuracy: 0.8125\n"
          ]
        }
      ]
    },
    {
      "cell_type": "code",
      "source": [
        "total_acc, cls_acc, disease_acc = pred_accuracy(predict('/content/datasets/train/images'))\n",
        "\n",
        "print(f\"Total accuracy(leaf and disease corrects): {total_acc}\\nClass accuracy: {cls_acc}\\nDisease accuracy: {disease_acc}\")"
      ],
      "metadata": {
        "colab": {
          "base_uri": "https://localhost:8080/"
        },
        "id": "VUSnzEQzUgwZ",
        "outputId": "d29f8dd0-a213-4848-98f7-9165355d6049"
      },
      "execution_count": 114,
      "outputs": [
        {
          "output_type": "stream",
          "name": "stdout",
          "text": [
            "Total accuracy(leaf and disease corrects): 0.32673267326732675\n",
            "Class accuracy: 0.9702970297029703\n",
            "Disease accuracy: 0.32673267326732675\n"
          ]
        }
      ]
    }
  ]
}